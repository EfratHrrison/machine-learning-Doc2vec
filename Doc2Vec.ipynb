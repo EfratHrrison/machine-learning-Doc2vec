{
  "nbformat": 4,
  "nbformat_minor": 0,
  "metadata": {
    "colab": {
      "name": "Doc2Vec.ipynb",
      "provenance": [],
      "collapsed_sections": []
    },
    "kernelspec": {
      "name": "python3",
      "display_name": "Python 3"
    }
  },
  "cells": [
    {
      "cell_type": "code",
      "metadata": {
        "id": "c4CMalFFBUzD"
      },
      "source": [
        "#Ex2 Efrat Harrison 318160215\r\n",
        "#import libraries \r\n",
        "import csv\r\n",
        "import pandas as pd\r\n",
        "import numpy as np\r\n",
        "import gensim\r\n",
        "from gensim.parsing.preprocessing import remove_stopwords\r\n",
        "from gensim.utils import simple_preprocess\r\n",
        "from sklearn.model_selection import train_test_split\r\n",
        "from nltk.corpus import stopwords\r\n",
        "from sklearn.metrics import accuracy_score\r\n",
        "from sklearn.utils.multiclass import unique_labels\r\n",
        "import seaborn as sns\r\n",
        "import matplotlib.pyplot as plt\r\n",
        "from sklearn.metrics import confusion_matrix"
      ],
      "execution_count": null,
      "outputs": []
    },
    {
      "cell_type": "code",
      "metadata": {
        "id": "HcIvSRThzBzk"
      },
      "source": [
        "data = pd.read_csv(\"Yelp_reviews.csv\")\r\n",
        "data.head(2)"
      ],
      "execution_count": null,
      "outputs": []
    },
    {
      "cell_type": "code",
      "metadata": {
        "id": "d6qns5HHL1RH"
      },
      "source": [
        "#normalize the text to improve model learning by removing stop words.\r\n",
        "# preprocess the data - split the data into tokens\r\n",
        "data['text_wo_sw'] = [remove_stopwords(x) for x in data['text']]\r\n",
        "data['text_wo_sw'] = [gensim.utils.simple_preprocess(x) for x in data['text_wo_sw']]\r\n",
        "#data['count_words'] = data['text_wo_sw'].str.len()\r\n",
        "data.head(2)"
      ],
      "execution_count": null,
      "outputs": []
    },
    {
      "cell_type": "code",
      "metadata": {
        "id": "yV0p6oNDL4ep"
      },
      "source": [
        "#function that splits the data into train and test and returns \r\n",
        "#lists because the models know how to deal with lists\r\n",
        "#tags the data before it is transferred to list if we are using doc2vec model. \r\n",
        "def split_train_test(X_data, y_data):\r\n",
        "  X_train, X_test, y_train, y_test = train_test_split(X_data,y_data, test_size=0.3, random_state=42)\r\n",
        "  X_train_W2V, X_test_W2V, y_train_W2V, y_test_W2V = X_train.copy(), X_test.copy(), y_train.copy(), y_test.copy()\r\n",
        "  X_train = [gensim.models.doc2vec.TaggedDocument(x,[ind]) for ind,x in enumerate(X_train)]\r\n",
        "  return list(X_train), list(X_test), list(y_train), list(y_test),\r\n",
        "          list(X_train_W2V), list(X_test_W2V), list(y_train_W2V), list(y_test_W2V)"
      ],
      "execution_count": null,
      "outputs": []
    },
    {
      "cell_type": "code",
      "metadata": {
        "colab": {
          "base_uri": "https://localhost:8080/"
        },
        "id": "GHlvzRP3L63x",
        "outputId": "2c5d76d5-e754-41b0-9e44-4d3af3604f62"
      },
      "source": [
        "#Create a training and testing model and return the results as a list so the model can get only lists.\r\n",
        "#I copied the lists for the Word2Vec so that I can compare models and do analysis on the same data.\r\n",
        "train_corpus, test_corpus, train_stars, test_stars,\r\n",
        "W2V_train_corpus , W2V_test_corpus, W2V_train_stars, W2V_test_stars = split_train_test(data['text_wo_sw'], data['stars'])"
      ],
      "execution_count": null,
      "outputs": [
        {
          "output_type": "stream",
          "text": [
            "Total Documents: 526167. 368316 in train set, 157851 in test set\n"
          ],
          "name": "stdout"
        }
      ]
    },
    {
      "cell_type": "code",
      "metadata": {
        "id": "HVC-7MdSFhG4"
      },
      "source": [
        "test_df = pd.DataFrame(list(zip(test_corpus, test_stars)), columns =['review', 'star']) \r\n",
        "test_df['count_words'] =test_df['review'].str.len()\r\n",
        "test_df.head(4)"
      ],
      "execution_count": null,
      "outputs": []
    },
    {
      "cell_type": "code",
      "metadata": {
        "id": "yQFjQ1E_JBEX"
      },
      "source": [
        "data = {'review':test_corpus, \r\n",
        "        'star': test_stars, }\r\n",
        "df = pd.DataFrame(data) \r\n",
        "df['count_words'] =df['review'].str.len()\r\n",
        "test_corpus[0]\r\n",
        "df.head(4)"
      ],
      "execution_count": null,
      "outputs": []
    },
    {
      "cell_type": "code",
      "metadata": {
        "id": "irJ_pnYCL9Pd"
      },
      "source": [
        "#Train the Doc2vec model for 10 epochs with default hyperparameters\r\n",
        "#use the trained model to generate vector representations for each \r\n",
        "#document in the corpus\r\n",
        "inf_train_vec=[]\r\n",
        "inf_test_vec=[]\r\n",
        "model = gensim.models.doc2vec.Doc2Vec(vector_size=100,epochs=10)\r\n",
        "model.build_vocab(train_corpus)\r\n",
        "model.train(train_corpus, total_examples=model.corpus_count, epochs=model.epochs)\r\n",
        "\r\n",
        "for i in range(len(train_corpus)):\r\n",
        "    inf_vector = model.infer_vector(train_corpus[i].words)\r\n",
        "    inf_train_vec.append(inf_vector)\r\n",
        "    \r\n",
        "for i in range(len(test_corpus)):\r\n",
        "    inf_vector = model.infer_vector(test_corpus[i])\r\n",
        "    inf_test_vec.append(inf_vector)"
      ],
      "execution_count": null,
      "outputs": []
    },
    {
      "cell_type": "code",
      "metadata": {
        "id": "w6xoYc-yMF02"
      },
      "source": [
        "%matplotlib inline\r\n",
        "def plot_confusion_matrix(y_true, y_pred):\r\n",
        "    labels = unique_labels(y_true)\r\n",
        "    plt.figure(figsize=(12,10))\r\n",
        "    columns = [f'Predicted {label}' for label in labels]\r\n",
        "    index = [f'Actual {label}' for label in labels]\r\n",
        "    table = pd.DataFrame(confusion_matrix(y_true, y_pred), \r\n",
        "                         columns=columns, index=index)\r\n",
        "    return sns.heatmap(table, annot=True, fmt='d', cmap='viridis')"
      ],
      "execution_count": null,
      "outputs": []
    },
    {
      "cell_type": "code",
      "metadata": {
        "id": "K1JhmunwL_sO"
      },
      "source": [
        "#Tree\r\n",
        "from sklearn import tree \r\n",
        "def tree_classifier(X_train,X_test,y_train,y_test):\r\n",
        "  clf_tree = tree.DecisionTreeClassifier(max_depth=3)\r\n",
        "  model_T = clf_tree.fit(X_train,y_train)\r\n",
        "  predict_T = model_T.predict(X_test) \r\n",
        "  print('Accuracy Score of Tree Classifier: {0:f}'.format(accuracy_score(y_test, predict_T)))\r\n",
        "  plot_confusion_matrix(y_test, predict_T)\r\n"
      ],
      "execution_count": null,
      "outputs": []
    },
    {
      "cell_type": "code",
      "metadata": {
        "id": "LD_MpTDlMAV9"
      },
      "source": [
        "tree_classifier(inf_train_vec,inf_test_vec,train_stars,test_stars)"
      ],
      "execution_count": null,
      "outputs": []
    },
    {
      "cell_type": "code",
      "metadata": {
        "id": "lVXf2CXWMS-1"
      },
      "source": [
        "#Random forest Classifier \r\n",
        "from sklearn.ensemble import RandomForestClassifier\r\n",
        "def random_forest(X_train,X_test,y_train,y_test):\r\n",
        "  clf_RF  = RandomForestClassifier(random_state = 42)\r\n",
        "  model_RF = clf_RF.fit(X_train, y_train)\r\n",
        "  predict_RF = model_RF.predict(X_test) \r\n",
        "  print('Accuracy Score of Random Forest Classifier: {0:f}'.format(accuracy_score(y_test, predict_RF)))\r\n",
        "  plot_confusion_matrix(y_test, predict_RF)"
      ],
      "execution_count": null,
      "outputs": []
    },
    {
      "cell_type": "code",
      "metadata": {
        "colab": {
          "base_uri": "https://localhost:8080/",
          "height": 609
        },
        "id": "twr5l2g4MT7h",
        "outputId": "97393598-317e-4507-cc74-b03b075c119b"
      },
      "source": [
        "random_forest(inf_train_vec,inf_test_vec,train_stars,test_stars)"
      ],
      "execution_count": null,
      "outputs": [
        {
          "output_type": "stream",
          "text": [
            "Accuracy Score of Random Forest Classifier: 0.522366\n"
          ],
          "name": "stdout"
        },
        {
          "output_type": "display_data",
          "data": {
            "image/png": "[encoded data removed]",
            "text/plain": [
              "<Figure size 864x720 with 2 Axes>"
            ]
          },
          "metadata": {
            "tags": [],
            "needs_background": "light"
          }
        }
      ]
    },
    {
      "cell_type": "markdown",
      "metadata": {
        "id": "E4Gi8aEqMzdd"
      },
      "source": [
        "Logistic regression "
      ]
    },
    {
      "cell_type": "code",
      "metadata": {
        "id": "MF_Xi_-0M146"
      },
      "source": [
        "#A generic function for logistic regression binary and multinomial loss  if multi_cl \r\n",
        "#is ‘ovr’, then a binary problem is fit for each label  else it is  ‘multinomial’ the \r\n",
        "#loss minimised is the multinomial loss fit across the entire probability distribution\r\n",
        "#print the accuracy and the confusion matrix \r\n",
        "from sklearn.linear_model import LogisticRegression\r\n",
        "def logistic_regrassion(X_train,X_test,y_train,y_test,multi_cl):\r\n",
        "  clf_LR = LogisticRegression(multi_class=multi_cl,solver='newton-cg')\r\n",
        "  model_LR = clf_LR.fit(X_train, y_train)\r\n",
        "  predict_LR = model_LR.predict(X_test) \r\n",
        "  test_df['preds'] = predict_LR \r\n",
        "  test_df['Right_or_Wrong'] = test_df['star'] == test_df['preds']\r\n",
        "  print('Accuracy Score of Logistic Regression Classifier: {0:f}'.format(accuracy_score(y_test, predict_LR)))\r\n",
        "  plot_confusion_matrix(y_test, predict_LR)"
      ],
      "execution_count": null,
      "outputs": []
    },
    {
      "cell_type": "code",
      "metadata": {
        "colab": {
          "base_uri": "https://localhost:8080/",
          "height": 610
        },
        "id": "ETlitrxGNErF",
        "outputId": "b41d37e8-9f62-463d-b2ff-a2b6073e9cc7"
      },
      "source": [
        "logistic_regrassion(inf_train_vec,inf_test_vec,train_stars,test_stars,'multinomial')"
      ],
      "execution_count": null,
      "outputs": [
        {
          "output_type": "stream",
          "text": [
            "Accuracy Score of Logistic Regression Classifier: 0.578628\n"
          ],
          "name": "stdout"
        },
        {
          "output_type": "display_data",
          "data": {
            "image/png": "[encoded data removed]",
            "text/plain": [
              "<Figure size 864x720 with 2 Axes>"
            ]
          },
          "metadata": {
            "tags": [],
            "needs_background": "light"
          }
        }
      ]
    },
    {
      "cell_type": "code",
      "metadata": {
        "id": "t_QEpGkX5Ci6",
        "colab": {
          "base_uri": "https://localhost:8080/",
          "height": 1000
        },
        "outputId": "8ae53590-e4a6-4508-86af-30c2c934c899"
      },
      "source": [
        "test_df[['preds','star','Right_or_Wrong','count_words']].head(60)"
      ],
      "execution_count": null,
      "outputs": [
        {
          "output_type": "execute_result",
          "data": {
            "text/html": [
              "<div>\n",
              "<style scoped>\n",
              "    .dataframe tbody tr th:only-of-type {\n",
              "        vertical-align: middle;\n",
              "    }\n",
              "\n",
              "    .dataframe tbody tr th {\n",
              "        vertical-align: top;\n",
              "    }\n",
              "\n",
              "    .dataframe thead th {\n",
              "        text-align: right;\n",
              "    }\n",
              "</style>\n",
              "<table border=\"1\" class=\"dataframe\">\n",
              "  <thead>\n",
              "    <tr style=\"text-align: right;\">\n",
              "      <th></th>\n",
              "      <th>preds</th>\n",
              "      <th>star</th>\n",
              "      <th>Right_or_Wrong</th>\n",
              "      <th>count_words</th>\n",
              "    </tr>\n",
              "  </thead>\n",
              "  <tbody>\n",
              "    <tr>\n",
              "      <th>0</th>\n",
              "      <td>5</td>\n",
              "      <td>5</td>\n",
              "      <td>True</td>\n",
              "      <td>27</td>\n",
              "    </tr>\n",
              "    <tr>\n",
              "      <th>1</th>\n",
              "      <td>5</td>\n",
              "      <td>5</td>\n",
              "      <td>True</td>\n",
              "      <td>55</td>\n",
              "    </tr>\n",
              "    <tr>\n",
              "      <th>2</th>\n",
              "      <td>5</td>\n",
              "      <td>5</td>\n",
              "      <td>True</td>\n",
              "      <td>234</td>\n",
              "    </tr>\n",
              "    <tr>\n",
              "      <th>3</th>\n",
              "      <td>1</td>\n",
              "      <td>5</td>\n",
              "      <td>False</td>\n",
              "      <td>92</td>\n",
              "    </tr>\n",
              "    <tr>\n",
              "      <th>4</th>\n",
              "      <td>5</td>\n",
              "      <td>3</td>\n",
              "      <td>False</td>\n",
              "      <td>28</td>\n",
              "    </tr>\n",
              "    <tr>\n",
              "      <th>5</th>\n",
              "      <td>4</td>\n",
              "      <td>4</td>\n",
              "      <td>True</td>\n",
              "      <td>50</td>\n",
              "    </tr>\n",
              "    <tr>\n",
              "      <th>6</th>\n",
              "      <td>5</td>\n",
              "      <td>4</td>\n",
              "      <td>False</td>\n",
              "      <td>108</td>\n",
              "    </tr>\n",
              "    <tr>\n",
              "      <th>7</th>\n",
              "      <td>1</td>\n",
              "      <td>1</td>\n",
              "      <td>True</td>\n",
              "      <td>23</td>\n",
              "    </tr>\n",
              "    <tr>\n",
              "      <th>8</th>\n",
              "      <td>1</td>\n",
              "      <td>2</td>\n",
              "      <td>False</td>\n",
              "      <td>40</td>\n",
              "    </tr>\n",
              "    <tr>\n",
              "      <th>9</th>\n",
              "      <td>5</td>\n",
              "      <td>4</td>\n",
              "      <td>False</td>\n",
              "      <td>222</td>\n",
              "    </tr>\n",
              "    <tr>\n",
              "      <th>10</th>\n",
              "      <td>1</td>\n",
              "      <td>1</td>\n",
              "      <td>True</td>\n",
              "      <td>24</td>\n",
              "    </tr>\n",
              "    <tr>\n",
              "      <th>11</th>\n",
              "      <td>5</td>\n",
              "      <td>4</td>\n",
              "      <td>False</td>\n",
              "      <td>26</td>\n",
              "    </tr>\n",
              "    <tr>\n",
              "      <th>12</th>\n",
              "      <td>1</td>\n",
              "      <td>1</td>\n",
              "      <td>True</td>\n",
              "      <td>76</td>\n",
              "    </tr>\n",
              "    <tr>\n",
              "      <th>13</th>\n",
              "      <td>5</td>\n",
              "      <td>4</td>\n",
              "      <td>False</td>\n",
              "      <td>24</td>\n",
              "    </tr>\n",
              "    <tr>\n",
              "      <th>14</th>\n",
              "      <td>4</td>\n",
              "      <td>3</td>\n",
              "      <td>False</td>\n",
              "      <td>92</td>\n",
              "    </tr>\n",
              "    <tr>\n",
              "      <th>15</th>\n",
              "      <td>5</td>\n",
              "      <td>5</td>\n",
              "      <td>True</td>\n",
              "      <td>28</td>\n",
              "    </tr>\n",
              "    <tr>\n",
              "      <th>16</th>\n",
              "      <td>1</td>\n",
              "      <td>2</td>\n",
              "      <td>False</td>\n",
              "      <td>56</td>\n",
              "    </tr>\n",
              "    <tr>\n",
              "      <th>17</th>\n",
              "      <td>5</td>\n",
              "      <td>4</td>\n",
              "      <td>False</td>\n",
              "      <td>91</td>\n",
              "    </tr>\n",
              "    <tr>\n",
              "      <th>18</th>\n",
              "      <td>1</td>\n",
              "      <td>1</td>\n",
              "      <td>True</td>\n",
              "      <td>35</td>\n",
              "    </tr>\n",
              "    <tr>\n",
              "      <th>19</th>\n",
              "      <td>5</td>\n",
              "      <td>4</td>\n",
              "      <td>False</td>\n",
              "      <td>16</td>\n",
              "    </tr>\n",
              "    <tr>\n",
              "      <th>20</th>\n",
              "      <td>5</td>\n",
              "      <td>5</td>\n",
              "      <td>True</td>\n",
              "      <td>96</td>\n",
              "    </tr>\n",
              "    <tr>\n",
              "      <th>21</th>\n",
              "      <td>3</td>\n",
              "      <td>4</td>\n",
              "      <td>False</td>\n",
              "      <td>178</td>\n",
              "    </tr>\n",
              "    <tr>\n",
              "      <th>22</th>\n",
              "      <td>5</td>\n",
              "      <td>5</td>\n",
              "      <td>True</td>\n",
              "      <td>32</td>\n",
              "    </tr>\n",
              "    <tr>\n",
              "      <th>23</th>\n",
              "      <td>2</td>\n",
              "      <td>3</td>\n",
              "      <td>False</td>\n",
              "      <td>156</td>\n",
              "    </tr>\n",
              "    <tr>\n",
              "      <th>24</th>\n",
              "      <td>5</td>\n",
              "      <td>3</td>\n",
              "      <td>False</td>\n",
              "      <td>10</td>\n",
              "    </tr>\n",
              "    <tr>\n",
              "      <th>25</th>\n",
              "      <td>4</td>\n",
              "      <td>5</td>\n",
              "      <td>False</td>\n",
              "      <td>174</td>\n",
              "    </tr>\n",
              "    <tr>\n",
              "      <th>26</th>\n",
              "      <td>4</td>\n",
              "      <td>2</td>\n",
              "      <td>False</td>\n",
              "      <td>62</td>\n",
              "    </tr>\n",
              "    <tr>\n",
              "      <th>27</th>\n",
              "      <td>5</td>\n",
              "      <td>5</td>\n",
              "      <td>True</td>\n",
              "      <td>38</td>\n",
              "    </tr>\n",
              "    <tr>\n",
              "      <th>28</th>\n",
              "      <td>5</td>\n",
              "      <td>5</td>\n",
              "      <td>True</td>\n",
              "      <td>64</td>\n",
              "    </tr>\n",
              "    <tr>\n",
              "      <th>29</th>\n",
              "      <td>5</td>\n",
              "      <td>5</td>\n",
              "      <td>True</td>\n",
              "      <td>68</td>\n",
              "    </tr>\n",
              "    <tr>\n",
              "      <th>30</th>\n",
              "      <td>5</td>\n",
              "      <td>5</td>\n",
              "      <td>True</td>\n",
              "      <td>66</td>\n",
              "    </tr>\n",
              "    <tr>\n",
              "      <th>31</th>\n",
              "      <td>5</td>\n",
              "      <td>5</td>\n",
              "      <td>True</td>\n",
              "      <td>11</td>\n",
              "    </tr>\n",
              "    <tr>\n",
              "      <th>32</th>\n",
              "      <td>5</td>\n",
              "      <td>4</td>\n",
              "      <td>False</td>\n",
              "      <td>21</td>\n",
              "    </tr>\n",
              "    <tr>\n",
              "      <th>33</th>\n",
              "      <td>5</td>\n",
              "      <td>5</td>\n",
              "      <td>True</td>\n",
              "      <td>23</td>\n",
              "    </tr>\n",
              "    <tr>\n",
              "      <th>34</th>\n",
              "      <td>4</td>\n",
              "      <td>2</td>\n",
              "      <td>False</td>\n",
              "      <td>33</td>\n",
              "    </tr>\n",
              "    <tr>\n",
              "      <th>35</th>\n",
              "      <td>1</td>\n",
              "      <td>1</td>\n",
              "      <td>True</td>\n",
              "      <td>67</td>\n",
              "    </tr>\n",
              "    <tr>\n",
              "      <th>36</th>\n",
              "      <td>5</td>\n",
              "      <td>3</td>\n",
              "      <td>False</td>\n",
              "      <td>18</td>\n",
              "    </tr>\n",
              "    <tr>\n",
              "      <th>37</th>\n",
              "      <td>5</td>\n",
              "      <td>5</td>\n",
              "      <td>True</td>\n",
              "      <td>40</td>\n",
              "    </tr>\n",
              "    <tr>\n",
              "      <th>38</th>\n",
              "      <td>3</td>\n",
              "      <td>4</td>\n",
              "      <td>False</td>\n",
              "      <td>59</td>\n",
              "    </tr>\n",
              "    <tr>\n",
              "      <th>39</th>\n",
              "      <td>5</td>\n",
              "      <td>2</td>\n",
              "      <td>False</td>\n",
              "      <td>13</td>\n",
              "    </tr>\n",
              "    <tr>\n",
              "      <th>40</th>\n",
              "      <td>5</td>\n",
              "      <td>4</td>\n",
              "      <td>False</td>\n",
              "      <td>11</td>\n",
              "    </tr>\n",
              "    <tr>\n",
              "      <th>41</th>\n",
              "      <td>5</td>\n",
              "      <td>4</td>\n",
              "      <td>False</td>\n",
              "      <td>46</td>\n",
              "    </tr>\n",
              "    <tr>\n",
              "      <th>42</th>\n",
              "      <td>4</td>\n",
              "      <td>5</td>\n",
              "      <td>False</td>\n",
              "      <td>60</td>\n",
              "    </tr>\n",
              "    <tr>\n",
              "      <th>43</th>\n",
              "      <td>5</td>\n",
              "      <td>5</td>\n",
              "      <td>True</td>\n",
              "      <td>101</td>\n",
              "    </tr>\n",
              "    <tr>\n",
              "      <th>44</th>\n",
              "      <td>5</td>\n",
              "      <td>3</td>\n",
              "      <td>False</td>\n",
              "      <td>7</td>\n",
              "    </tr>\n",
              "    <tr>\n",
              "      <th>45</th>\n",
              "      <td>5</td>\n",
              "      <td>5</td>\n",
              "      <td>True</td>\n",
              "      <td>25</td>\n",
              "    </tr>\n",
              "    <tr>\n",
              "      <th>46</th>\n",
              "      <td>5</td>\n",
              "      <td>4</td>\n",
              "      <td>False</td>\n",
              "      <td>18</td>\n",
              "    </tr>\n",
              "    <tr>\n",
              "      <th>47</th>\n",
              "      <td>5</td>\n",
              "      <td>5</td>\n",
              "      <td>True</td>\n",
              "      <td>26</td>\n",
              "    </tr>\n",
              "    <tr>\n",
              "      <th>48</th>\n",
              "      <td>5</td>\n",
              "      <td>4</td>\n",
              "      <td>False</td>\n",
              "      <td>73</td>\n",
              "    </tr>\n",
              "    <tr>\n",
              "      <th>49</th>\n",
              "      <td>5</td>\n",
              "      <td>4</td>\n",
              "      <td>False</td>\n",
              "      <td>24</td>\n",
              "    </tr>\n",
              "    <tr>\n",
              "      <th>50</th>\n",
              "      <td>5</td>\n",
              "      <td>5</td>\n",
              "      <td>True</td>\n",
              "      <td>15</td>\n",
              "    </tr>\n",
              "    <tr>\n",
              "      <th>51</th>\n",
              "      <td>2</td>\n",
              "      <td>2</td>\n",
              "      <td>True</td>\n",
              "      <td>211</td>\n",
              "    </tr>\n",
              "    <tr>\n",
              "      <th>52</th>\n",
              "      <td>1</td>\n",
              "      <td>1</td>\n",
              "      <td>True</td>\n",
              "      <td>75</td>\n",
              "    </tr>\n",
              "    <tr>\n",
              "      <th>53</th>\n",
              "      <td>5</td>\n",
              "      <td>5</td>\n",
              "      <td>True</td>\n",
              "      <td>23</td>\n",
              "    </tr>\n",
              "    <tr>\n",
              "      <th>54</th>\n",
              "      <td>3</td>\n",
              "      <td>3</td>\n",
              "      <td>True</td>\n",
              "      <td>40</td>\n",
              "    </tr>\n",
              "    <tr>\n",
              "      <th>55</th>\n",
              "      <td>5</td>\n",
              "      <td>5</td>\n",
              "      <td>True</td>\n",
              "      <td>34</td>\n",
              "    </tr>\n",
              "    <tr>\n",
              "      <th>56</th>\n",
              "      <td>4</td>\n",
              "      <td>3</td>\n",
              "      <td>False</td>\n",
              "      <td>23</td>\n",
              "    </tr>\n",
              "    <tr>\n",
              "      <th>57</th>\n",
              "      <td>5</td>\n",
              "      <td>2</td>\n",
              "      <td>False</td>\n",
              "      <td>9</td>\n",
              "    </tr>\n",
              "    <tr>\n",
              "      <th>58</th>\n",
              "      <td>1</td>\n",
              "      <td>1</td>\n",
              "      <td>True</td>\n",
              "      <td>48</td>\n",
              "    </tr>\n",
              "    <tr>\n",
              "      <th>59</th>\n",
              "      <td>5</td>\n",
              "      <td>5</td>\n",
              "      <td>True</td>\n",
              "      <td>25</td>\n",
              "    </tr>\n",
              "  </tbody>\n",
              "</table>\n",
              "</div>"
            ],
            "text/plain": [
              "    preds  star  Right_or_Wrong  count_words\n",
              "0       5     5            True           27\n",
              "1       5     5            True           55\n",
              "2       5     5            True          234\n",
              "3       1     5           False           92\n",
              "4       5     3           False           28\n",
              "5       4     4            True           50\n",
              "6       5     4           False          108\n",
              "7       1     1            True           23\n",
              "8       1     2           False           40\n",
              "9       5     4           False          222\n",
              "10      1     1            True           24\n",
              "11      5     4           False           26\n",
              "12      1     1            True           76\n",
              "13      5     4           False           24\n",
              "14      4     3           False           92\n",
              "15      5     5            True           28\n",
              "16      1     2           False           56\n",
              "17      5     4           False           91\n",
              "18      1     1            True           35\n",
              "19      5     4           False           16\n",
              "20      5     5            True           96\n",
              "21      3     4           False          178\n",
              "22      5     5            True           32\n",
              "23      2     3           False          156\n",
              "24      5     3           False           10\n",
              "25      4     5           False          174\n",
              "26      4     2           False           62\n",
              "27      5     5            True           38\n",
              "28      5     5            True           64\n",
              "29      5     5            True           68\n",
              "30      5     5            True           66\n",
              "31      5     5            True           11\n",
              "32      5     4           False           21\n",
              "33      5     5            True           23\n",
              "34      4     2           False           33\n",
              "35      1     1            True           67\n",
              "36      5     3           False           18\n",
              "37      5     5            True           40\n",
              "38      3     4           False           59\n",
              "39      5     2           False           13\n",
              "40      5     4           False           11\n",
              "41      5     4           False           46\n",
              "42      4     5           False           60\n",
              "43      5     5            True          101\n",
              "44      5     3           False            7\n",
              "45      5     5            True           25\n",
              "46      5     4           False           18\n",
              "47      5     5            True           26\n",
              "48      5     4           False           73\n",
              "49      5     4           False           24\n",
              "50      5     5            True           15\n",
              "51      2     2            True          211\n",
              "52      1     1            True           75\n",
              "53      5     5            True           23\n",
              "54      3     3            True           40\n",
              "55      5     5            True           34\n",
              "56      4     3           False           23\n",
              "57      5     2           False            9\n",
              "58      1     1            True           48\n",
              "59      5     5            True           25"
            ]
          },
          "metadata": {
            "tags": []
          },
          "execution_count": 74
        }
      ]
    },
    {
      "cell_type": "markdown",
      "metadata": {
        "id": "9BWx93M-NaoI"
      },
      "source": [
        "part II\r\n"
      ]
    },
    {
      "cell_type": "code",
      "metadata": {
        "id": "r9aDHJRONb8j"
      },
      "source": [
        "#II improve the model \r\n",
        "#convert the data to binary data using a deneric function \r\n",
        "train_stars_2c = []\r\n",
        "test_stars_2c = []\r\n",
        "improve_model_2c(train_stars_2c,test_stars_2c,train_stars,test_stars)"
      ],
      "execution_count": null,
      "outputs": []
    },
    {
      "cell_type": "code",
      "metadata": {
        "id": "eatm469lNeY3"
      },
      "source": [
        "#improve the model, split the data into to classes \r\n",
        "# transfer each review that less then or equal to 3 to good - 0 \r\n",
        "# and each review greater then 3 to good - 1 \r\n",
        "def improve_model_2c(train_stars_2c,test_stars_2c,train_stars,test_stars):\r\n",
        "  for star in train_stars:\r\n",
        "    if(int(star) <= 3 ):\r\n",
        "      train_stars_2c.append(0)\r\n",
        "    else:\r\n",
        "      train_stars_2c.append(1)\r\n",
        "  for star in test_stars:\r\n",
        "    if(int(star) <= 3 ):\r\n",
        "      test_stars_2c.append(0)\r\n",
        "    else:\r\n",
        "      test_stars_2c.append(1)"
      ],
      "execution_count": null,
      "outputs": []
    },
    {
      "cell_type": "code",
      "metadata": {
        "colab": {
          "base_uri": "https://localhost:8080/",
          "height": 609
        },
        "id": "pH1Q_uvANfDw",
        "outputId": "6da2f819-f6f2-425c-e2df-b61bf5e8efa3"
      },
      "source": [
        "tree_classifier(inf_train_vec,inf_test_vec,train_stars_2c,test_stars_2c)"
      ],
      "execution_count": null,
      "outputs": [
        {
          "output_type": "stream",
          "text": [
            "Accuracy Score of Tree Classifier: 0.706552\n"
          ],
          "name": "stdout"
        },
        {
          "output_type": "display_data",
          "data": {
            "image/png": "[encoded data removed]",
            "text/plain": [
              "<Figure size 864x720 with 2 Axes>"
            ]
          },
          "metadata": {
            "tags": [],
            "needs_background": "light"
          }
        }
      ]
    },
    {
      "cell_type": "code",
      "metadata": {
        "colab": {
          "base_uri": "https://localhost:8080/",
          "height": 609
        },
        "id": "Kng_976vNji5",
        "outputId": "b142f545-1d19-4516-f635-efa5102a10fa"
      },
      "source": [
        "random_forest(inf_train_vec,inf_test_vec,train_stars_2c,test_stars_2c)"
      ],
      "execution_count": null,
      "outputs": [
        {
          "output_type": "stream",
          "text": [
            "Accuracy Score of Random Forest Classifier: 0.797366\n"
          ],
          "name": "stdout"
        },
        {
          "output_type": "display_data",
          "data": {
            "image/png": "[encoded data removed]",
            "text/plain": [
              "<Figure size 864x720 with 2 Axes>"
            ]
          },
          "metadata": {
            "tags": [],
            "needs_background": "light"
          }
        }
      ]
    },
    {
      "cell_type": "code",
      "metadata": {
        "colab": {
          "base_uri": "https://localhost:8080/",
          "height": 609
        },
        "id": "U16FiNR4Nlov",
        "outputId": "556c7fc5-339c-4d54-ab51-5ce6cae2f08e"
      },
      "source": [
        "logistic_regrassion(inf_train_vec,inf_test_vec,train_stars_2c,test_stars_2c,'ovr')"
      ],
      "execution_count": null,
      "outputs": [
        {
          "output_type": "stream",
          "text": [
            "Accuracy Score of Logistic Regression Classifier: 0.832785\n"
          ],
          "name": "stdout"
        },
        {
          "output_type": "display_data",
          "data": {
            "image/png": "[encoded data removed]",
            "text/plain": [
              "<Figure size 864x720 with 2 Axes>"
            ]
          },
          "metadata": {
            "tags": [],
            "needs_background": "light"
          }
        }
      ]
    },
    {
      "cell_type": "markdown",
      "metadata": {
        "id": "COCZ7pp0NpKM"
      },
      "source": [
        "Word2Vec model"
      ]
    },
    {
      "cell_type": "code",
      "metadata": {
        "colab": {
          "base_uri": "https://localhost:8080/"
        },
        "id": "3QUq1a5GNnWM",
        "outputId": "c2a49535-8535-4274-d388-a20ae59df5c7"
      },
      "source": [
        "#split the data again for W2V because we already manipulated the data \r\n",
        "#send false for the bool arg because we are not using doc2vec model \r\n",
        "W2V_train_corpus , W2V_test_corpus, W2V_train_stars, W2V_test_stars = split_train_test(data['text_wo_sw'], data['stars'], False)"
      ],
      "execution_count": null,
      "outputs": [
        {
          "output_type": "stream",
          "text": [
            "Total Documents: 526167. 368316 in train set, 157851 in test set\n"
          ],
          "name": "stdout"
        }
      ]
    },
    {
      "cell_type": "code",
      "metadata": {
        "colab": {
          "base_uri": "https://localhost:8080/"
        },
        "id": "7YN-GtKoNsw2",
        "outputId": "ddfbf7b1-a02c-4948-d2aa-53088b6cdc5c"
      },
      "source": [
        "#preparing the data for word2vec model\r\n",
        "#I have a train and test from the beginning that I copied\r\n",
        "W2V_train_corpus_vec = []\r\n",
        "W2V_train_stars_vec = []\r\n",
        "W2V_test_corpus_vec = []\r\n",
        "W2V_test_stars_vec = []\r\n",
        "\r\n",
        "w2v_model = gensim.models.Word2Vec(W2V_train_corpus, size=100, window=7, min_count=2, workers=10, iter=4)\r\n",
        "W2Vec_model = w2v_model.wv\r\n",
        "for i in range(len(W2V_train_corpus)):\r\n",
        "    vector = [W2Vec_model.get_vector(w) for w in W2V_train_corpus[i] if w in W2Vec_model]\r\n",
        "    doc_vector = np.mean(vector, axis=0)\r\n",
        "    if (len(vector) != 0):\r\n",
        "        W2V_train_corpus_vec.append(np.array(doc_vector))\r\n",
        "        W2V_train_stars_vec.append(W2V_train_stars[i])\r\n",
        "\r\n",
        "for i in range(len(W2V_test_corpus)):\r\n",
        "    vector = [W2Vec_model.get_vector(w) for w in W2V_test_corpus[i] if w in W2Vec_model]\r\n",
        "    doc_vector = np.mean(vector, axis=0)\r\n",
        "    if (len(vector) != 0):\r\n",
        "        W2V_test_corpus_vec.append(np.array(doc_vector))\r\n",
        "        W2V_test_stars_vec.append(W2V_test_stars[i])"
      ],
      "execution_count": null,
      "outputs": [
        {
          "output_type": "stream",
          "text": [
            "/usr/local/lib/python3.6/dist-packages/numpy/core/fromnumeric.py:3373: RuntimeWarning: Mean of empty slice.\n",
            "  out=out, **kwargs)\n",
            "/usr/local/lib/python3.6/dist-packages/numpy/core/_methods.py:170: RuntimeWarning: invalid value encountered in double_scalars\n",
            "  ret = ret.dtype.type(ret / rcount)\n"
          ],
          "name": "stderr"
        }
      ]
    },
    {
      "cell_type": "code",
      "metadata": {
        "colab": {
          "base_uri": "https://localhost:8080/",
          "height": 609
        },
        "id": "W73PkH2TNvgQ",
        "outputId": "b92f57b3-2fd4-4b0f-9927-8b1b58b74a13"
      },
      "source": [
        "logistic_regrassion(W2V_train_corpus_vec,W2V_test_corpus_vec,W2V_train_stars_vec,W2V_test_stars_vec,'multinomial')"
      ],
      "execution_count": null,
      "outputs": [
        {
          "output_type": "stream",
          "text": [
            "Accuracy Score of Logistic Regression Classifier: 0.634588\n"
          ],
          "name": "stdout"
        },
        {
          "output_type": "display_data",
          "data": {
            "image/png": "[encoded data removed]",
            "text/plain": [
              "<Figure size 864x720 with 2 Axes>"
            ]
          },
          "metadata": {
            "tags": [],
            "needs_background": "light"
          }
        }
      ]
    },
    {
      "cell_type": "code",
      "metadata": {
        "id": "SfaByopHNy0O"
      },
      "source": [
        "#II improve the model using word2vec\r\n",
        "train_stars_2c_w2v = []\r\n",
        "test_stars_2c_w2v = []\r\n",
        "improve_model_2c(train_stars_2c_w2v,test_stars_2c_w2v,W2V_train_stars_vec,W2V_test_stars_vec)"
      ],
      "execution_count": null,
      "outputs": []
    },
    {
      "cell_type": "code",
      "metadata": {
        "colab": {
          "base_uri": "https://localhost:8080/",
          "height": 609
        },
        "id": "ftQUL_E5N1Ge",
        "outputId": "62be10fd-8af0-4edd-d235-92cf87d72c32"
      },
      "source": [
        "logistic_regrassion(W2V_train_corpus_vec,W2V_test_corpus_vec,train_stars_2c_w2v,test_stars_2c_w2v,'ovr')"
      ],
      "execution_count": null,
      "outputs": [
        {
          "output_type": "stream",
          "text": [
            "Accuracy Score of Logistic Regression Classifier: 0.874887\n"
          ],
          "name": "stdout"
        },
        {
          "output_type": "display_data",
          "data": {
            "image/png": "[encoded data removed]",
            "text/plain": [
              "<Figure size 864x720 with 2 Axes>"
            ]
          },
          "metadata": {
            "tags": [],
            "needs_background": "light"
          }
        }
      ]
    }
  ]
}